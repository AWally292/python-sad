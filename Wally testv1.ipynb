{
 "cells": [
  {
   "cell_type": "code",
   "execution_count": 41,
   "metadata": {},
   "outputs": [
    {
     "data": {
      "text/plain": [
       "3.0"
      ]
     },
     "execution_count": 41,
     "metadata": {},
     "output_type": "execute_result"
    }
   ],
   "source": [
    "#Q2 \n",
    "\"\"\"Given the variable length argument list, return the average of all the arguments as a float\"\"\"\n",
    "#take list \n",
    "#get list of arguments\n",
    "#divide by total arguments\n",
    "def q1(*args):\n",
    "    avg = sum(args) / len(args)\n",
    "\n",
    "    return avg\n",
    "q1(1,3,5)"
   ]
  },
  {
   "cell_type": "code",
   "execution_count": 40,
   "metadata": {},
   "outputs": [
    {
     "data": {
      "text/plain": [
       "3.0"
      ]
     },
     "execution_count": 40,
     "metadata": {},
     "output_type": "execute_result"
    }
   ],
   "source": [
    "def q1(*args):\n",
    "    avg = sum(args) / len(args)\n",
    "\n",
    "    return avg\n",
    "q1(1,3,5)"
   ]
  },
  {
   "cell_type": "code",
   "execution_count": 32,
   "metadata": {},
   "outputs": [
    {
     "data": {
      "text/plain": [
       "[1.0, 2.0, -3.4]"
      ]
     },
     "execution_count": 32,
     "metadata": {},
     "output_type": "execute_result"
    }
   ],
   "source": [
    "#Q1\n",
    "\"\"\"Given the floatstr, which is a comma separated string of floats, return a list with each of the floats in the argument as elements in the list.\"\"\"\n",
    "#get a string of floats\n",
    "#convert strings into floats \n",
    "#return list of floats\n",
    "\n",
    "def q1(floatstr):\n",
    "    new_lst = []\n",
    "    list1 = floatstr.split(',')\n",
    "    #floats = [list(x) for x in floatstr]\n",
    "    for x in list1:\n",
    "        new_lst.append(float(x))\n",
    "    return new_lst\n",
    "    \n",
    "q1(\"1.0, 2.0, -3.4\")\n"
   ]
  },
  {
   "cell_type": "code",
   "execution_count": 12,
   "metadata": {},
   "outputs": [
    {
     "data": {
      "text/plain": [
       "('the', 'kitty', 'like', 'me')"
      ]
     },
     "execution_count": 12,
     "metadata": {},
     "output_type": "execute_result"
    }
   ],
   "source": [
    "#Given an input string, return a tuple with each element in the tuple containing a single word from the input string in order.\n",
    "\n",
    "def q1(strng):\n",
    "    lst = strng.split(\" \")\n",
    "\n",
    "    return tuple(lst)\n",
    "q1(\"the kitty like me\")\n",
    "\n"
   ]
  },
  {
   "cell_type": "code",
   "execution_count": 39,
   "metadata": {},
   "outputs": [
    {
     "data": {
      "text/plain": [
       "1449.95"
      ]
     },
     "execution_count": 39,
     "metadata": {},
     "output_type": "execute_result"
    }
   ],
   "source": [
    "\"\"\"Given a dictionary (catalog) whose keys are product names and values are product prices per unit and a list of tuples (order) of product names and quantities, compute and return the total value of the order.\n",
    "def q6(catalog, order):\"\"\"\n",
    "def q6(catalog, order): \n",
    "    total_price = 0\n",
    "    for x in order:\n",
    "        total_price += x[1] * catalog[x[0]]\n",
    "        return total_price\n",
    "q6({\n",
    "'AMD Ryzen 5 5600X': 289.99,\n",
    "'Intel Core i9-9900K': 363.50,\n",
    "'AMD Ryzen 9 5900X': 569.99\n",
    "}, [\n",
    "('AMD Ryzen 5 5600X', 5), \n",
    "('Intel Core i9-9900K', 3)\n",
    "])"
   ]
  },
  {
   "cell_type": "code",
   "execution_count": 43,
   "metadata": {},
   "outputs": [
    {
     "data": {
      "text/plain": [
       "21"
      ]
     },
     "execution_count": 43,
     "metadata": {},
     "output_type": "execute_result"
    }
   ],
   "source": [
    "\"\"\"Given a filename, open the file and return the length of the first line in the file excluding the line terminator.\"\"\"\n",
    "def q1(filename):\n",
    "    lst = []\n",
    "    with open(filename) as f:\n",
    "        first_line = f.readline().strip('\\n')\n",
    "    return len(first_line)\n",
    "q1('myfile.txt')\n"
   ]
  },
  {
   "cell_type": "code",
   "execution_count": 80,
   "metadata": {},
   "outputs": [],
   "source": [
    "\"\"\"Given a filename and a list, write each entry from the list to the file on separate lines until a case-insensitive entry of \"stop\" is found in the list. If \"stop\" is not found in the list, write the entire list to the file on separate lines.\"\"\"\n",
    "print(\"{}!\".format(greeting))\n",
    "q1('myfile.txt', lst)\n",
    "\n"
   ]
  },
  {
   "cell_type": "code",
   "execution_count": 19,
   "metadata": {},
   "outputs": [
    {
     "data": {
      "text/plain": [
       "'Good Morning'"
      ]
     },
     "execution_count": 19,
     "metadata": {},
     "output_type": "execute_result"
    }
   ],
   "source": [
    "\"\"\"Given the military time in the argument miltime, return a string containing the greeting of the day.\n",
    "\n",
    "    0300-1159 \"Good Morning\"\n",
    "    1200-1559 \"Good Afternoon\"\n",
    "    1600-2059 \"Good Evening\"\n",
    "    2100-0259 \"Good Night\"\n",
    "\n",
    "\"\"\"\n",
    "def q1(miltime):\n",
    "    \n",
    "    if miltime >= 300 and miltime < 1200:\n",
    "        return \"Good Morning\"\n",
    "    elif miltime >= 1200 and miltime < 1600:\n",
    "        return \"Good Afternoon\" \n",
    "    elif miltime >= 1600 and miltime < 2100:\n",
    "        return \"Good Evening\"\n",
    "\n",
    "    else:\n",
    "        return \"Good Night\"\n",
    "\n",
    "q1(300)"
   ]
  },
  {
   "cell_type": "code",
   "execution_count": 3,
   "metadata": {},
   "outputs": [
    {
     "data": {
      "text/plain": [
       "True"
      ]
     },
     "execution_count": 3,
     "metadata": {},
     "output_type": "execute_result"
    }
   ],
   "source": [
    "def q1(numlist):\n",
    "    for i in numlist:\n",
    "        if i < 0:\n",
    "            return False\n",
    "        else:\n",
    "            return True\n",
    "q1([1,2,3,6,12])\n"
   ]
  },
  {
   "cell_type": "code",
   "execution_count": null,
   "metadata": {},
   "outputs": [],
   "source": []
  }
 ],
 "metadata": {
  "kernelspec": {
   "display_name": "Python 3",
   "language": "python",
   "name": "python3"
  },
  "language_info": {
   "codemirror_mode": {
    "name": "ipython",
    "version": 3
   },
   "file_extension": ".py",
   "mimetype": "text/x-python",
   "name": "python",
   "nbconvert_exporter": "python",
   "pygments_lexer": "ipython3",
   "version": "3.8.10"
  },
  "orig_nbformat": 4,
  "vscode": {
   "interpreter": {
    "hash": "916dbcbb3f70747c44a77c7bcd40155683ae19c65e1c03b4aa3499c5328201f1"
   }
  }
 },
 "nbformat": 4,
 "nbformat_minor": 2
}

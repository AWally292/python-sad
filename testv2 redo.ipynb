{
 "cells": [
  {
   "cell_type": "code",
   "execution_count": 17,
   "metadata": {},
   "outputs": [
    {
     "name": "stdout",
     "output_type": "stream",
     "text": [
      "['f', 'o', 'o', 'd', ' ', 'f', 'o', 'r', ' ', 'a', 'l', '?']\n",
      "f.o.o.d. .f.o.r. .a.l.?\n"
     ]
    }
   ],
   "source": [
    "sentence = \"good for all\"\n",
    "sent_list = list(sentence)\n",
    "sent_list[0] = \"f\"\n",
    "sent_list[-1] = \"?\"\n",
    "output = \".\".join(sent_list)\n",
    "print(sent_list)\n",
    "print(output)"
   ]
  },
  {
   "cell_type": "code",
   "execution_count": 48,
   "metadata": {},
   "outputs": [
    {
     "name": "stdout",
     "output_type": "stream",
     "text": [
      "['alan', 'm', 'turing', 'genius', 'com']\n"
     ]
    }
   ],
   "source": [
    "# pycore 00 mailbox maint\n",
    "# email = \"alan.m.turing@genius.com\"\n",
    "lst1 = email.replace('@', '.') \n",
    "lst = lst1.split('.')\n",
    "print(lst)\n"
   ]
  },
  {
   "cell_type": "code",
   "execution_count": 68,
   "metadata": {},
   "outputs": [
    {
     "name": "stdout",
     "output_type": "stream",
     "text": [
      "Positive Even\n"
     ]
    }
   ],
   "source": [
    "#pycore 007\n",
    "#make input\n",
    "#determine pos or neg\n",
    "#determine even odd.\n",
    "#if elif else probably\n",
    "\n",
    "number = int(input())\n",
    "if number < 0 and number % 2 == 0:\n",
    "    print('Negative Even')\n",
    "elif number < 0 and number % 2 != 0:\n",
    "    print('Negative Odd')\n",
    "elif number == 0:\n",
    "    print('Zero')\n",
    "elif number > 0 and number % 2 == 0:\n",
    "    print('Positive Even')# you fucked this up by not tryping the string correctly. fucking loser\n",
    "else:\n",
    "    print('Positive Odd')"
   ]
  },
  {
   "cell_type": "code",
   "execution_count": 80,
   "metadata": {},
   "outputs": [
    {
     "name": "stdout",
     "output_type": "stream",
     "text": [
      "fizzbuzz\n"
     ]
    }
   ],
   "source": [
    "#pycore ooA\n",
    "number = int(input())\n",
    "if number % 3 != 0 and number % 5 != 0:\n",
    "    print(number)\n",
    "elif number % 3 == 0 and number % 5 == 0:\n",
    "    print('fizzbuzz')\n",
    "elif number % 5 == 0: \n",
    "    print('buzz')\n",
    "elif number % 3 == 0:\n",
    "    print('fizz')\n"
   ]
  },
  {
   "cell_type": "code",
   "execution_count": 2,
   "metadata": {},
   "outputs": [
    {
     "name": "stdout",
     "output_type": "stream",
     "text": [
      "9\n"
     ]
    }
   ],
   "source": [
    "#pycore 8\n",
    "\n",
    "def domath(a,b,c):\n",
    "    sum1 = c*(a+b)\n",
    "    return(sum1)#if it says return dont fucking put print"
   ]
  },
  {
   "cell_type": "code",
   "execution_count": 47,
   "metadata": {},
   "outputs": [
    {
     "data": {
      "text/plain": [
       "['tac', 'god', 'traf', 'refaeb']"
      ]
     },
     "execution_count": 47,
     "metadata": {},
     "output_type": "execute_result"
    }
   ],
   "source": [
    "\"\"\"Use python to produce code below that will perform the following:\n",
    "\n",
    "    Read multiple lines from the user on standard input until an empty string is read.\n",
    "    Return a list of all these lines without line terminators\n",
    "    Each line should be reversed from how it is read in.\n",
    "\"\"\"\n",
    "#make input prompt\n",
    "#make list from input\n",
    "#read lines\n",
    "#stop reading when line is empty\n",
    "#reverse list\n",
    "#return reversed list\n",
    "\n",
    "\n",
    "def reverseit():\n",
    "    lst = []\n",
    "    while True:\n",
    "        i = input()#input\n",
    "        if i == '':\n",
    "            break#stop reading if empty\n",
    "        lst.append(i[::-1])\n",
    "    return lst\n",
    "reverseit()\n",
    "#reverseit()  \n",
    "    #print(daddy)terpiece a as accepted is it'.\"\"\""
   ]
  },
  {
   "cell_type": "code",
   "execution_count": 48,
   "metadata": {},
   "outputs": [
    {
     "data": {
      "text/plain": [
       "['hello', 'doggy', 'cat', 'wolf']"
      ]
     },
     "execution_count": 48,
     "metadata": {},
     "output_type": "execute_result"
    }
   ],
   "source": [
    "def user_io():\n",
    "    lst = []\n",
    "    while True:\n",
    "        i = input()#input\n",
    "        if i == '':\n",
    "            break#stop reading if empty\n",
    "        lst.append(i)\n",
    "    return lst\n",
    "user_io()"
   ]
  },
  {
   "cell_type": "code",
   "execution_count": 61,
   "metadata": {},
   "outputs": [
    {
     "name": "stdout",
     "output_type": "stream",
     "text": [
      "shit of piece you face your hate I\n"
     ]
    }
   ],
   "source": [
    "#test V2 redo\n",
    "#1\n",
    "\"\"\"Given a string of multiple words separated by single spaces, return a new string with the sentence reversed. The words themselves should remain as they are.\n",
    "\n",
    "For example, given 'it is accepted as a masterpiece on strategy', the returned string should be 'strategy on masterpiece a as accepted is it'.\"\"\"\n",
    "def q1(sentence):\n",
    "    lst = []\n",
    "    lst = sentence.split(' ')\n",
    "    reverse = lst[::-1]\n",
    "    r_sent = ' '.join(reverse)\n",
    "\n",
    "    return r_sent\n",
    "q1(\"I hate your face you piece of shit\")"
   ]
  },
  {
   "cell_type": "code",
   "execution_count": 62,
   "metadata": {},
   "outputs": [
    {
     "data": {
      "text/plain": [
       "'1,000'"
      ]
     },
     "execution_count": 62,
     "metadata": {},
     "output_type": "execute_result"
    }
   ],
   "source": [
    "\"\"\"Given a pos\n",
    "    14 Solves\n",
    "\n",
    "04 - Pass GO and collect $200\n",
    "10\n",
    "coding itive integer, return its string representation with commas seperating groups of 3 digits.\n",
    "\n",
    "For example, given 65535 the returned string should be '65,535'.\"\"\"\n",
    "#rx integer\n",
    "#given specific position from end of string, put comma after position 3\n",
    "#return int as string\n",
    "def q1(n):\n",
    "    return f'{n:,}'\n",
    "q1(1000)\n"
   ]
  },
  {
   "cell_type": "code",
   "execution_count": 64,
   "metadata": {},
   "outputs": [
    {
     "data": {
      "text/plain": [
       "[9, 8, 5, 4, 3, 1]"
      ]
     },
     "execution_count": 64,
     "metadata": {},
     "output_type": "execute_result"
    }
   ],
   "source": [
    "\"\"\"Given two lists of integers, return a sorted list that contains all integers from both lists in descending order.\n",
    "\n",
    "For example, given [3,4,9] and [8,1,5] the returned list should be [9,8,5,4,3,1]. The returned list may contain duplicates.\"\"\"\n",
    "\n",
    "\n",
    "def q1(lst0, lst1):\n",
    "    res = sorted(lst0 + lst1)\n",
    "    return res[::-1]\n",
    "q1([3,4,9] , [8,1,5])"
   ]
  },
  {
   "cell_type": "code",
   "execution_count": 5,
   "metadata": {},
   "outputs": [
    {
     "data": {
      "text/plain": [
       "'NOGO'"
      ]
     },
     "execution_count": 5,
     "metadata": {},
     "output_type": "execute_result"
    }
   ],
   "source": [
    "\"\"\"Given 3 scores in the range [0-100] inclusive, return 'GO' if the average score is greater than 50. Otherwise return 'NOGO'.\"\"\"\n",
    "#Q4\n",
    "def q1(s1,s2,s3):\n",
    "\n",
    "    average = (s1 + s2 + s3) // 3\n",
    "    if average > 50:\n",
    "        return \"GO\"\n",
    "    else:\n",
    "        return \"NOGO\"\n",
    "q1(3,3,3)\n",
    "    "
   ]
  },
  {
   "cell_type": "code",
   "execution_count": 36,
   "metadata": {},
   "outputs": [
    {
     "data": {
      "text/plain": [
       "[0, 2, 4, 6, 8, 10, 12, 14, 16, 18, 20, 22, 24, 26, 28, 30]"
      ]
     },
     "execution_count": 36,
     "metadata": {},
     "output_type": "execute_result"
    }
   ],
   "source": [
    "#Q5 \n",
    "\"\"\"Given an integer and limit, return a list of even multiples of the integer up to and including the limit.\n",
    "\n",
    "For example, if integer = 6 and limit = 30, the returned list should be [0,6,12,18,24,30]. Note, 0 is a multiple of any integer except 0 itself.\"\"\"\n",
    "\n",
    "def q1(integer, limit):\n",
    "    lst = []\n",
    "    for i in range(limit +1):\n",
    "        if i % 2 == 0 and i % integer == 0:\n",
    "            lst.append(i)\n",
    "    return lst\n",
    "    #return lst.append(i)\n",
    "\n",
    "\n",
    "q1(1,30)"
   ]
  },
  {
   "cell_type": "code",
   "execution_count": 50,
   "metadata": {},
   "outputs": [
    {
     "data": {
      "text/plain": [
       "7"
      ]
     },
     "execution_count": 50,
     "metadata": {},
     "output_type": "execute_result"
    }
   ],
   "source": [
    "lst = []#Q7 \n",
    "\"\"\"As you iterate through the given list, return the first duplicate value you come across.\n",
    "\n",
    "For example, if given [5,7,9,1,3,7,9,5], the returned value should be 7.\"\"\"\n",
    "\n",
    "def q1(lst):\n",
    "  arr = []\n",
    "  for i in lst:\n",
    "      if i in arr:#arr is empty\n",
    "         return i# this value is returned if i is in arr (duplicate)\n",
    "      arr.append(i)#when number is not in arr, it is appended to arr here.\n",
    "    \n",
    "q1([2,5,7,9,1,3,7,9,5])\n"
   ]
  },
  {
   "cell_type": "code",
   "execution_count": 11,
   "metadata": {},
   "outputs": [
    {
     "data": {
      "text/plain": [
       "1"
      ]
     },
     "execution_count": 11,
     "metadata": {},
     "output_type": "execute_result"
    }
   ],
   "source": [
    "\"\"\"Given a sentence as a string with words being separated by a single space, return the length of the shortest word.\"\"\"\n",
    "# take string and turn into list\n",
    "#measure strings in list\n",
    "#compare to other strings and id shortest\n",
    "def q1(strng):\n",
    "    lst = strng.split(' ')\n",
    "    #print(lst)\n",
    "    for s in lst:\n",
    "        #print(len(s))\n",
    "        if len(s) in lst < len(s):\n",
    "            return len(s)\n",
    "        return len(min(lst, key = len))#read from inside to out\n",
    "q1( 'the cat is a fucktard')\n"
   ]
  },
  {
   "cell_type": "code",
   "execution_count": null,
   "metadata": {},
   "outputs": [],
   "source": [
    "#Q9 \n",
    "\"\"\"Given an alphanumeric string, return the character whose ascii value is that of the integer represenation of all of the digits in the string concatenated in the order in which they appear.\n",
    "\n",
    "For example, given 'hell9oworld7', the returned character should be 'a' which has the ascii value of 97.\"\"\"\n",
    "#make list of char n int in string\n",
    "#identify int by >= 0.\n",
    "#join together\n",
    "#input into chr(int or var) variable\n",
    "#output letter\n",
    "#join works with lists\n",
    "#split works with strings\n",
    "def q1(strng):\n",
    "    sstring = list(strng)\n",
    "    #print(#lst is empty''.join(lst)\n",
    "    char = chr(int(jlst))\n",
    "    return char\n",
    "q1('hell9oworld7')\n"
   ]
  },
  {
   "cell_type": "code",
   "execution_count": 56,
   "metadata": {},
   "outputs": [
    {
     "data": {
      "text/plain": [
       "6"
      ]
     },
     "execution_count": 56,
     "metadata": {},
     "output_type": "execute_result"
    }
   ],
   "source": [
    "#q10\n",
    "def q1(arr):\n",
    "    num = arr[0]\n",
    "    for i in arr:\n",
    "        if i == num:\n",
    "            num += 1\n",
    "        else:\n",
    "            return i\n",
    "    return None\n",
    "\n",
    "q1([1,2,3,4,6,7])"
   ]
  }
 ],
 "metadata": {
  "kernelspec": {
   "display_name": "Python 3",
   "language": "python",
   "name": "python3"
  },
  "language_info": {
   "codemirror_mode": {
    "name": "ipython",
    "version": 3
   },
   "file_extension": ".py",
   "mimetype": "text/x-python",
   "name": "python",
   "nbconvert_exporter": "python",
   "pygments_lexer": "ipython3",
   "version": "3.8.10"
  },
  "orig_nbformat": 4,
  "vscode": {
   "interpreter": {
    "hash": "916dbcbb3f70747c44a77c7bcd40155683ae19c65e1c03b4aa3499c5328201f1"
   }
  }
 },
 "nbformat": 4,
 "nbformat_minor": 2
}

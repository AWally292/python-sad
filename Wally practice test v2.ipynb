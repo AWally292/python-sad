{
 "cells": [
  {
   "cell_type": "code",
   "execution_count": 46,
   "metadata": {},
   "outputs": [
    {
     "data": {
      "text/plain": [
       "'strategy on masterpiece a as accepted is it'"
      ]
     },
     "execution_count": 46,
     "metadata": {},
     "output_type": "execute_result"
    }
   ],
   "source": [
    "#question 1 mirror mirrior\n",
    "\"\"\"'it is accepted as a masterpiece on strategy'\"\"\"\n",
    "\n",
    "#def name(para1, para2, para3)\n",
    "    \n",
    "#name(\"arg1\", \"arg2\", \"arg3\")\n",
    "\n",
    "def q1(sentence): #function container using \"sentence\" as the parameter holding the argument\n",
    "    lst = sentence.split() #putting works in the sentence variable into a list\n",
    "    rev = lst[::-1] #reverse entry  [start point : stop point : step]\n",
    "\n",
    "\n",
    "\n",
    "    return \" \".join(rev)\n",
    "q1('it is accepted as a masterpiece on strategy')"
   ]
  },
  {
   "cell_type": "code",
   "execution_count": 47,
   "metadata": {},
   "outputs": [
    {
     "data": {
      "text/plain": [
       "'65,535'"
      ]
     },
     "execution_count": 47,
     "metadata": {},
     "output_type": "execute_result"
    }
   ],
   "source": [
    "#question \n",
    "\"\"\"Given a positive integer, return its string representation with commas seperating groups of 3 digits.\n",
    "\n",
    "For example, given 65535 the returned string should be '65,535'.\"\"\"\n",
    "\n",
    "def q1(n):\n",
    "    return f\"{n:,}\"\n",
    "\n",
    "\n",
    "q1(65535)\n",
    "#return a string\n",
    "#use comma separate every 3 digits 65.535"
   ]
  },
  {
   "cell_type": "code",
   "execution_count": null,
   "metadata": {},
   "outputs": [],
   "source": []
  },
  {
   "cell_type": "code",
   "execution_count": 18,
   "metadata": {},
   "outputs": [
    {
     "data": {
      "text/plain": [
       "[9, 8, 5, 4, 3, 1]"
      ]
     },
     "execution_count": 18,
     "metadata": {},
     "output_type": "execute_result"
    }
   ],
   "source": [
    "\"\"\"test v2 Bring it together and make it pretty\n",
    "join two lists \"[3,4,9] and [8,1,5]. make it decending order.\n",
    "mentions return so we know its a function\"\"\"\n",
    "def q1(list0, list1):\n",
    "    list2 = list0 + list1\n",
    "    list2.sort(reverse=True)\n",
    "    return list2\n",
    "\n",
    "q1([3,4,9] , [8,1,5])\n",
    "\n"
   ]
  },
  {
   "cell_type": "code",
   "execution_count": 17,
   "metadata": {},
   "outputs": [
    {
     "data": {
      "text/plain": [
       "'go'"
      ]
     },
     "execution_count": 17,
     "metadata": {},
     "output_type": "execute_result"
    }
   ],
   "source": [
    "\"\"\"Given 3 scores in the range [0-100] inclusive, return 'GO' if the average score is greater than 50. Otherwise return 'NOGO'.\n",
    "\n",
    "\"\"\"\n",
    "def q1(s1,s2,s3):\n",
    "    average = (s1 + s2 + s3) // 3\n",
    "\n",
    "    if average > 50:\n",
    "        return \"go\"\n",
    "    else:\n",
    "        return \"no-go\"\n",
    "q1(50,60,60)\n",
    "\n",
    "\n"
   ]
  },
  {
   "cell_type": "code",
   "execution_count": 120,
   "metadata": {},
   "outputs": [
    {
     "data": {
      "text/plain": [
       "[0, 6, 12, 18, 24]"
      ]
     },
     "execution_count": 120,
     "metadata": {},
     "output_type": "execute_result"
    }
   ],
   "source": [
    "\"\"\"Given an integer and limit, return a list of even multiples of the integer up to and including the limit.\n",
    "\n",
    "For example, if integer = 3 and limit = 30, the returned list should be [0,6,12,18,24,30]. Note, 0 is a multiple of any integer except 0 itself.\"\"\"\n",
    "\n",
    "#5 use modulus % thingy\n",
    "#how do I just do evens to include 0? %2 doesnt work. also, output isnt a list\n",
    "\n",
    "def q1(integer, limit):\n",
    "  lst = []\n",
    "  for i in range(0, limit ):\n",
    "      if i % integer == 0 and i % 2 ==0:\n",
    "        lst.append(i)\n",
    "  return lst\n",
    "      \n",
    "         \n",
    "q1(3,30)"
   ]
  },
  {
   "cell_type": "code",
   "execution_count": 76,
   "metadata": {},
   "outputs": [
    {
     "data": {
      "text/plain": [
       "7"
      ]
     },
     "execution_count": 76,
     "metadata": {},
     "output_type": "execute_result"
    }
   ],
   "source": [
    "\"\"\"As you iterate through the given list, return the first duplicate value you come across.\n",
    "\n",
    "For example, if given [5,7,9,1,3,7,9,5], the returned value should be 7\n",
    "\n",
    "\n",
    "\"\"\"\n",
    "def q1(lst):\n",
    "    have_seen = set()\n",
    "    for item in lst:\n",
    "        if item in have_seen:\n",
    "            return item\n",
    "        have_seen.add(item)\n",
    "a = [5,7,9,1,3,7,9,5]\n",
    "q1(a)\n",
    "\n",
    "#https://stackoverflow.com/questions/45252243/finding-the-first-duplicate-element-in-an-ordered-list#:~:text=def%20firstDuplicate(a)%3A%20%23%20put,a%5B1%5D)%20bleh%20%3D%201\n",
    "#googled \"python find first duplicate in list\"\n"
   ]
  },
  {
   "cell_type": "code",
   "execution_count": 90,
   "metadata": {},
   "outputs": [
    {
     "data": {
      "text/plain": [
       "3"
      ]
     },
     "execution_count": 90,
     "metadata": {},
     "output_type": "execute_result"
    }
   ],
   "source": [
    "\"\"\"Given a sentence as a string with words being separated by a single space, return the length of the shortest word.\n",
    "\n",
    "#use len()?\n",
    "\"\"\"\n",
    "def q1(strng):\n",
    "    l = map(len, strng.split())\n",
    "    return min(l)\n",
    "q1(\"cappy cap kitten pop\")\n",
    "\n",
    "#Googled \"return the length of the shortest word python\"\n",
    "#https://stackoverflow.com/questions/47113916/find-the-length-shortest-word-in-a-string-in-python"
   ]
  },
  {
   "cell_type": "code",
   "execution_count": 107,
   "metadata": {},
   "outputs": [
    {
     "data": {
      "text/plain": [
       "'a'"
      ]
     },
     "execution_count": 107,
     "metadata": {},
     "output_type": "execute_result"
    }
   ],
   "source": [
    "\"\"\"Given an alphanumeric string, return the character whose ascii value is that of the integer represenation of all of the digits in the string concatenated in the order in which they appear.\n",
    "\n",
    "For example, given 'hell9oworld7', the returned character should be 'a' which has the ascii value of 97.\"\"\"\n",
    "import re\n",
    "def q1(strng):\n",
    "   n = re.findall('\\d+', strng)\n",
    "   m = int(\"\".join(n))\n",
    "   return chr(m)\n",
    "\n",
    "\n",
    "q1(\"hell9oworld7\")\n",
    "#identify numbers in string. combine them\n",
    "#use function to determine what letter equals the above\n",
    "#googled \"return the length of the shortest word python\"\n",
    "#googled convert ascii value to character"
   ]
  },
  {
   "cell_type": "code",
   "execution_count": 111,
   "metadata": {},
   "outputs": [
    {
     "data": {
      "text/plain": [
       "6"
      ]
     },
     "execution_count": 111,
     "metadata": {},
     "output_type": "execute_result"
    }
   ],
   "source": [
    "\"\"\"Given a list of positive integers sorted in ascending order, return the first non-consecutive value. If all values are consecutive, return None.\n",
    "\n",
    "For example, given [1,2,3,4,6,7], the returned value should be 6.\n",
    "\"\"\"\n",
    "def q1(arr):\n",
    "    for i, j in enumerate(arr, arr[0]):\n",
    "        if i!=j:\n",
    "            return j\n",
    "\n",
    "q1([1,2,3,4,6,7,8])\n",
    "\n",
    "\n",
    "#perhaps id the sequence as \"X+1 OR i +1\"\n",
    "#simply googled \"find the first non-consecutive number python\"\n",
    "#https://stackoverflow.com/questions/61599773/find-the-first-non-consecutive-number-in-a-list"
   ]
  },
  {
   "cell_type": "code",
   "execution_count": null,
   "metadata": {},
   "outputs": [],
   "source": []
  }
 ],
 "metadata": {
  "kernelspec": {
   "display_name": "Python 3",
   "language": "python",
   "name": "python3"
  },
  "language_info": {
   "codemirror_mode": {
    "name": "ipython",
    "version": 3
   },
   "file_extension": ".py",
   "mimetype": "text/x-python",
   "name": "python",
   "nbconvert_exporter": "python",
   "pygments_lexer": "ipython3",
   "version": "3.10.10"
  },
  "orig_nbformat": 4,
  "vscode": {
   "interpreter": {
    "hash": "5a84c4c7f3a78866d08fe5254ec22446e8291c67771ea7191129281b49f36966"
   }
  }
 },
 "nbformat": 4,
 "nbformat_minor": 2
}

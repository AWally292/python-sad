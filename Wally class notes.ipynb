{
 "cells": [
  {
   "cell_type": "code",
   "execution_count": null,
   "metadata": {},
   "outputs": [],
   "source": [
    "#if you are using the & in binary, both digits have to be turned on\n",
    "#if you are using the | (Or) only one bit needs to be turned on\n",
    "#if you are using ^(xor) only one bit can be turned on at a time\n",
    "#not gonna use oct or hex in this class lol"
   ]
  },
  {
   "cell_type": "code",
   "execution_count": 3,
   "metadata": {},
   "outputs": [
    {
     "name": "stdout",
     "output_type": "stream",
     "text": [
      "0b10000\n",
      "0o20\n",
      "0x10\n"
     ]
    },
    {
     "data": {
      "text/plain": [
       "5"
      ]
     },
     "execution_count": 3,
     "metadata": {},
     "output_type": "execute_result"
    }
   ],
   "source": [
    "n = 16\n",
    "\n",
    "print(bin(n))\n",
    "print(oct(n))\n",
    "print(hex(n))\n",
    "\n",
    "print(int('0b101', base = 2))#inside the parenthisis makes python view it as binanry number\n",
    "print(int('0o20', base = 8)) #oct\n",
    "print(int('0x10', base = 16))#hex\n",
    "#turn least sig bit off in odd number 255 & ~1\n",
    "\n",
    "\n",
    "#move past binary question"
   ]
  },
  {
   "cell_type": "code",
   "execution_count": null,
   "metadata": {},
   "outputs": [],
   "source": [
    "#101\n",
    "#need to be able to accept single integers for example perms(6)\n",
    "#bin(6)\n",
    "#google the binary behind linux permissions"
   ]
  },
  {
   "cell_type": "code",
   "execution_count": null,
   "metadata": {},
   "outputs": [],
   "source": [
    "# shift >> moves binanry to the right, 10 >> 1 = 5\n",
    "#shift << moves binary to the left\n",
    "#bin(10) is a string! watch out playa\n",
    "\n",
    "example = 25 >> 2\n"
   ]
  },
  {
   "cell_type": "code",
   "execution_count": 3,
   "metadata": {},
   "outputs": [
    {
     "name": "stdout",
     "output_type": "stream",
     "text": [
      "example\n"
     ]
    }
   ],
   "source": [
    "#by default python in utf 8\n",
    "variable = 'example'.encode('utf-16')#know how they encoded it to decode\n",
    "print(variable.decode('utf-16'))"
   ]
  },
  {
   "cell_type": "code",
   "execution_count": null,
   "metadata": {},
   "outputs": [],
   "source": [
    "#exceptions\n",
    "a = 10\n",
    "b = 10\n",
    "try:\n",
    "    print(a/b)\n",
    "except Exception as e: #you can make 'except' into anything you want ie 'ZeroDivisionError'\n",
    "    print(e)"
   ]
  },
  {
   "cell_type": "code",
   "execution_count": 2,
   "metadata": {},
   "outputs": [
    {
     "name": "stdout",
     "output_type": "stream",
     "text": [
      "[Errno 2] No such file or directory: 'myfile69.txt'\n"
     ]
    }
   ],
   "source": [
    "#IF YOU SEE ATTEMPT\n",
    "try:\n",
    "    file = open('myfile69.txt')\n",
    "except FileNotFoundError as e:\n",
    "    print(e)\n",
    "#else: #this is only going to execute if the try block does not error\n",
    "    file.read()\n",
    "    file.close()\n",
    "#finally:\n",
    "    #this is gonna execute no matter what"
   ]
  },
  {
   "cell_type": "code",
   "execution_count": 6,
   "metadata": {},
   "outputs": [
    {
     "name": "stdout",
     "output_type": "stream",
     "text": [
      "3\n"
     ]
    }
   ],
   "source": [
    "#build stand alone class\n",
    "#build class called truck\n",
    "#needs to be able to speed up, slow down, stop, print current speed\n",
    "\n",
    "class truck:\n",
    "    def __init__(self): #self will become the instance we create later\n",
    "        self.speed = 0\n",
    "    def speedup(self):\n",
    "        self.speed += 1\n",
    "    def slowdown(self):\n",
    "        if self.speed > 0:\n",
    "            self.speed -= 1\n",
    "    def stop(self):\n",
    "        self.speed = 0\n",
    "    def set_speed(self,a):\n",
    "        self.speed = a\n",
    "    def getspeed(self):\n",
    "        return self.speed\n",
    "    def __str__(self):#when printing the instance of the  truck this runs\n",
    "        return f'The truck is moving at {self.speed} MPH'\n",
    "cyber = truck()\n",
    "cyber.speedup()\n",
    "cyber.speedup()\n",
    "cyber.speedup()\n",
    "print(cyber.getspeed())"
   ]
  },
  {
   "cell_type": "code",
   "execution_count": 8,
   "metadata": {},
   "outputs": [
    {
     "name": "stdout",
     "output_type": "stream",
     "text": [
      "The shit brown truck is moving at 420 MPH\n"
     ]
    }
   ],
   "source": [
    "class truck1:\n",
    "    def __init__(self, color = 'purple'): #purple is default color\n",
    "        self.speed = 0\n",
    "        self.color = color\n",
    "    def speedup(self, speed_up = 1):\n",
    "        self.speed += speed_up\n",
    "    def slowdown(self, slow_down = 1):\n",
    "        if self.speed > 0:\n",
    "            self.speed -= slow_down\n",
    "    def stop(self):\n",
    "        self.speed = 0\n",
    "    def set_speed(self,a):\n",
    "        self.speed = a\n",
    "    def getspeed(self):\n",
    "        return self.speed\n",
    "    def __str__(self):#when printing the instance of the  truck this runs\n",
    "        return f'The {self.color} truck is moving at {self.speed} MPH'\n",
    "cyber1 = truck1('shit brown')\n",
    "cyber1.speedup(419)\n",
    "cyber1.speedup()\n",
    "print(cyber1)"
   ]
  }
 ],
 "metadata": {
  "kernelspec": {
   "display_name": "Python 3",
   "language": "python",
   "name": "python3"
  },
  "language_info": {
   "codemirror_mode": {
    "name": "ipython",
    "version": 3
   },
   "file_extension": ".py",
   "mimetype": "text/x-python",
   "name": "python",
   "nbconvert_exporter": "python",
   "pygments_lexer": "ipython3",
   "version": "3.8.10"
  },
  "orig_nbformat": 4,
  "vscode": {
   "interpreter": {
    "hash": "916dbcbb3f70747c44a77c7bcd40155683ae19c65e1c03b4aa3499c5328201f1"
   }
  }
 },
 "nbformat": 4,
 "nbformat_minor": 2
}

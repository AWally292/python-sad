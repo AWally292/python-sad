{
 "cells": [
  {
   "cell_type": "code",
   "execution_count": 2,
   "metadata": {},
   "outputs": [
    {
     "name": "stdout",
     "output_type": "stream",
     "text": [
      "171\n"
     ]
    }
   ],
   "source": [
    "\"\"\" calc avg height of students with out using len or sum function\"\"\"\n",
    "# 🚨 Don't change the code below 👇\n",
    "student_heights = input(\"Input a list of student heights \").split()\n",
    "for n in range(0, len(student_heights)):\n",
    "  student_heights[n] = int(student_heights[n])\n",
    "# 🚨 Don't change the code above 👆\n",
    "\n",
    "\n",
    "#Write your code below this row 👇\n",
    "total_height = 0 #very important to ensure this beginnging value is indented properly\n",
    "for i in student_heights:\n",
    "\n",
    "    total_height += i\n",
    "\n",
    "total_students = 0\n",
    "for students in student_heights:\n",
    "    total_students += 1\n",
    "avg = round((total_height / total_students))\n",
    "\n",
    "print(avg)"
   ]
  },
  {
   "cell_type": "code",
   "execution_count": null,
   "metadata": {},
   "outputs": [],
   "source": [
    "#find highest score in list with loop\n",
    "# 🚨 Don't change the code below 👇\n",
    "student_scores = input(\"Input a list of student scores \").split()\n",
    "for n in range(0, len(student_scores)):\n",
    "  student_scores[n] = int(student_scores[n])\n",
    "print(student_scores)\n",
    "# 🚨 Don't change the code above 👆\n",
    "\n",
    "#Write your code below this row 👇\n",
    "\n",
    "high_score = 0 #remember set the start value to 0\n",
    "for score in student_scores:\n",
    "    if score > high_score: #this keeps it going through each score.\n",
    "        high_score = score\n",
    "print(high_score)"
   ]
  }
 ],
 "metadata": {
  "kernelspec": {
   "display_name": "Python 3",
   "language": "python",
   "name": "python3"
  },
  "language_info": {
   "codemirror_mode": {
    "name": "ipython",
    "version": 3
   },
   "file_extension": ".py",
   "mimetype": "text/x-python",
   "name": "python",
   "nbconvert_exporter": "python",
   "pygments_lexer": "ipython3",
   "version": "3.10.10"
  },
  "orig_nbformat": 4,
  "vscode": {
   "interpreter": {
    "hash": "5a84c4c7f3a78866d08fe5254ec22446e8291c67771ea7191129281b49f36966"
   }
  }
 },
 "nbformat": 4,
 "nbformat_minor": 2
}
